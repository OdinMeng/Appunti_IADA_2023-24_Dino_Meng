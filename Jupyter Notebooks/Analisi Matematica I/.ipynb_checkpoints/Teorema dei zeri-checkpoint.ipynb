{
 "cells": [
  {
   "cell_type": "markdown",
   "id": "5001b694",
   "metadata": {},
   "source": [
    "# Teorema dei zeri (richiamo)\n",
    "Per spiegare il senso di questo notebook, richiamiamo il *teorema dei zeri per le functioni continue*.\n",
    "\n",
    "> *Teorema dei zeri*\n",
    ">\n",
    "> Sia $f: [a, b] \\longrightarrow \\mathbb{R}$, $f$ *continua* nel suo dominio. Sia $f(a) < 0$, $f(b) > 0$ oppure $f(a)>0 \\land f(b)<0$, cioè sono di segni *discordi* (ovvero $f(a)f(b) < 0$).\n",
    "> Allora\n",
    "> $$ \\exists \\xi \\in ]a, b[: f(\\xi) =0 $$\n",
    "> In parole deve esiste un valore $\\xi$ che *\"taglia\"* attraverso la linea orizzontale delle ascisse.\n",
    "\n",
    "**DIMOSTRAZIONE** del *teorema dei zeri*.\n",
    "\n",
    "*N.B.* La seguente dimostrazione è solo una dimostrazione parziale, che illustra i primi passi operativi dell'algoritmo a seguire.\n",
    "\n",
    "Supponiamo $f(a) < 0$, $f(b) > 0$. \n",
    "Allora chiamo $a = a_0, b=b_0$.\n",
    "Ora considero il punto medio tra $a, b$ e la chiamo $c_0 = \\frac{a_0+b_0}{2}$. \n",
    "Adesso ho tre possibilità:\n",
    "1. $f(c_0) = 0$: non serve più procedere e ho risolto il problema\n",
    "2. $f(c_0) > 0$: considero la funzione $f$ in $[a_0, c_0]$ e ripeto la stessa procedura, con $a_1 = a_0, b_1 = c_0, c_1 = \\ldots$.\n",
    "3. $f(c_0) < 0$: analogamente guardo la funzione $f$ in $[c_0, b_0]$\n",
    "\n",
    "Se mi capitano i casi $2, 3$ ripeto: facendo questa procedura ho due possibilità:\n",
    "1. Eventualmente riuscirò a trovare $\\xi$ tale che $f(\\xi) = 0$.\n",
    "2. In ogni caso mi avvicinerò al valore $\\xi$, dal momento che diventa un *punto di accumulazione* per il dominio (da dimostrare in una maniera formale, ma ai nostri fini non è rilevante).\n",
    "$\\blacksquare$"
   ]
  },
  {
   "cell_type": "markdown",
   "id": "a8ac6d6b",
   "metadata": {},
   "source": [
    "# Introduzione\n",
    "**OBBIETTIVO.** L'obbettivo di questo snippet è quello di trovare dei *zeri* per certe funzioni *continue*, utilizzando il *teorema dei zeri per le funzioni continue*.\n",
    "\n",
    "**STRUMENTI.** Come linguaggio di programmazione si userà Python, adoperando in particolare gli *iteratori*.\n",
    "\n",
    "**PREREQUISITI.** Si assume che la funzione data è *continua*.\n",
    "\n",
    "**L'IDEA.** L'idea di questo codice non sarà quello di trovare *esattamente* il valore $\\xi$ per cui si ha il zero della funzione $f$, bensì quello di trovare un *valore* che è *\"abbastanza vicino a $\\xi$\"*; quindi come input si dovrà accettare anche un parametro `epsilon`, che rappresenta la *\"distanza accettabile\"* dal valore reale $\\xi$. Per trovare il valore, vedere la dimostrazione (parziale) del teorema."
   ]
  },
  {
   "cell_type": "markdown",
   "id": "a8c2e266",
   "metadata": {},
   "source": [
    "# Codice"
   ]
  },
  {
   "cell_type": "code",
   "execution_count": 28,
   "id": "58867aed",
   "metadata": {},
   "outputs": [],
   "source": [
    "class Intervallo:\n",
    "    def __init__(self, a, b, f, epsilon):\n",
    "        self.a=a\n",
    "        self.b=b\n",
    "        self.f=f\n",
    "        self.epsilon=epsilon\n",
    "        \n",
    "        try:\n",
    "            x = self.f(a)\n",
    "            y = self.f(b)\n",
    "            if not(x<0 and y>0):\n",
    "                raise Exception(\"I valori non vanno bene!\")\n",
    "                \n",
    "        except:\n",
    "            raise Exception(\"Input scorretto\")\n",
    "\n",
    "    def __iter__(self):\n",
    "        return TrovaZeri(self.a, self.b, self.f, self.epsilon)\n",
    "\n",
    "class TrovaZeri:\n",
    "    def __init__(self, a, b, f, e):\n",
    "        self.a = a\n",
    "        self.b = b\n",
    "        self.f = f\n",
    "        self.c = (a+b)/2\n",
    "        self.e = e\n",
    "\n",
    "    def __next__(self):\n",
    "        if self.f(self.c) == 0 or (self.f(self.c)<self.e and self.f(self.c) > -1*self.e):\n",
    "            raise StopIteration\n",
    "\n",
    "        if self.f(self.c) > 0:\n",
    "            self.a = self.a\n",
    "            self.b = self.c\n",
    "            self.c = (self.a+self.b)/2\n",
    "            return self.b\n",
    "\n",
    "        if self.f(self.c) < 0:\n",
    "            self.a = self.c\n",
    "            self.b = self.b\n",
    "            self.c = (self.a+self.b)/2\n",
    "            return self.a"
   ]
  },
  {
   "cell_type": "markdown",
   "id": "29efe938",
   "metadata": {},
   "source": [
    "# Esempio\n",
    "Come esempio supponiamo di prendere la funzione\n",
    "$$f(x) = x^2-2 $$\n",
    "e di voler trovare i suoi *zeri*.\n",
    "Come intervallo prendiamo $[0, 2]$ (che sono accettabili, dato che $f(0)=-2, f(2)=2$).\n",
    "Allora col codice appena sfornato troviamo i suoi zeri.\n",
    "Come approssimazione vogliamo un errore non inferiore a $10^{-4}$."
   ]
  },
  {
   "cell_type": "code",
   "execution_count": 29,
   "id": "19a275eb",
   "metadata": {
    "scrolled": true
   },
   "outputs": [
    {
     "name": "stdout",
     "output_type": "stream",
     "text": [
      "Iterazione numero 0: 1.0\n",
      "Iterazione numero 1: 1.5\n",
      "Iterazione numero 2: 1.25\n",
      "Iterazione numero 3: 1.375\n",
      "Iterazione numero 4: 1.4375\n",
      "Iterazione numero 5: 1.40625\n",
      "Iterazione numero 6: 1.421875\n",
      "Iterazione numero 7: 1.4140625\n",
      "Iterazione numero 8: 1.41796875\n",
      "Iterazione numero 9: 1.416015625\n",
      "Iterazione numero 10: 1.4150390625\n",
      "Iterazione numero 11: 1.41455078125\n",
      "Iterazione numero 12: 1.414306640625\n",
      "\n",
      "2.000263273715973\n"
     ]
    }
   ],
   "source": [
    "def f(x):\n",
    "    return x**2-2\n",
    "\n",
    "Zeri = Intervallo(0, 2, f, 0.0001)\n",
    "\n",
    "LastNumber = 0\n",
    "for i, Iterazione in enumerate(Zeri):\n",
    "    print(f\"Iterazione numero {i}: {Iterazione}\")\n",
    "    LastNumber = Iterazione\n",
    "\n",
    "print()\n",
    "print(LastNumber**2)"
   ]
  }
 ],
 "metadata": {
  "kernelspec": {
   "display_name": "Python 3 (ipykernel)",
   "language": "python",
   "name": "python3"
  },
  "language_info": {
   "codemirror_mode": {
    "name": "ipython",
    "version": 3
   },
   "file_extension": ".py",
   "mimetype": "text/x-python",
   "name": "python",
   "nbconvert_exporter": "python",
   "pygments_lexer": "ipython3",
   "version": "3.11.5"
  }
 },
 "nbformat": 4,
 "nbformat_minor": 5
}
