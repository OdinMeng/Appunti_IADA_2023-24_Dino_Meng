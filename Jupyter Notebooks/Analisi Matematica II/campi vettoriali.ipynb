{
 "cells": [
  {
   "cell_type": "markdown",
   "id": "95853c4c",
   "metadata": {},
   "source": [
    "# Notebook sui Campi Vettoriali\n",
    "Questo notebook si concentrerà sui *campi vettoriali*, in particolare sulla rappresentazione di questi oggetti matematici. Diamo prima una definizione per i *campi vettoriali*.\n",
    "\n",
    "> **DEFINIZIONE: CAMPO VETTORIALE**\n",
    "> \n",
    "> Si dice *campo vettoriale a $N$ dimensioni* una qualsiasi funzione in $N$ variabili che manda un vettore in $N$ variabili. Ovvero,\n",
    "> $$ f: E \\subseteq \\mathbb{R}^N \\longrightarrow \\mathbb{R}^N $$\n",
    " \n",
    "In questo notebook ci focalizzeremo sulla *rappresentazione geometrica* dei *campi vettoriali a 2 dimensioni*.\n",
    "\n",
    "Si rende nota la seguente convenzione.\n",
    "\n",
    "**CONVENZIONE.** Per rappresentare un *campo vettoriale* $f:\\mathbb{R}^2 \\longrightarrow \\mathbb{R}^2$ si prende un piano cartesiano $\\pi$ con coordinate $(x,y)$. Sia $x \\in \\mathbb{R}^2$ fissato. Allora possiamo prendere $f(x)$, che sarà una coppia del tipo $(f_1(x,y), f_2(x,y))$ dove $f_1, f_2$ sono funzioni del tipo $f_1, f_2: \\mathbb{R}^2 \\longrightarrow \\mathbb{R}$ (ovvero sono le *singole componenti* del campo vettoriale). Si prende dunque $f(x)$ come un *vettore a due dimensioni*, e la si colloca sul piano cartesiano $\\pi$ con *punto di applicazione* il punto di partenza $x$. Si ripete questo processo per un sufficiente numero di punti $x$. Per spiegare meglio il concetto, si vede il seguente concetto."
   ]
  },
  {
   "cell_type": "markdown",
   "id": "d1924bd0",
   "metadata": {},
   "source": [
    "**ESEMPIO.**\n",
    "Sia $f(x,y)=(y,-x)$. Allora si ha: $f(1,0)=(0,-1); f(0,1)=(1,0); f(1,1)=(1,-1)$. Dunque si ha il seguente grafico:"
   ]
  },
  {
   "cell_type": "code",
   "execution_count": 51,
   "id": "1efe5a9c",
   "metadata": {},
   "outputs": [
    {
     "data": {
      "image/png": "[encoded data removed]",
      "text/plain": [
       "<Figure size 640x480 with 1 Axes>"
      ]
     },
     "metadata": {},
     "output_type": "display_data"
    }
   ],
   "source": [
    "import matplotlib.pyplot as plt\n",
    "import time\n",
    "\n",
    "function = {(1,0): [0, -1], \n",
    "            (0,1):[1,0], \n",
    "            (1,1):[1,-1]}\n",
    "\n",
    "for point in function:\n",
    "    plt.scatter(point[0], point[1])\n"
   ]
  },
  {
   "cell_type": "code",
   "execution_count": null,
   "id": "22b5fb7b",
   "metadata": {},
   "outputs": [],
   "source": []
  }
 ],
 "metadata": {
  "kernelspec": {
   "display_name": "Python 3 (ipykernel)",
   "language": "python",
   "name": "python3"
  },
  "language_info": {
   "codemirror_mode": {
    "name": "ipython",
    "version": 3
   },
   "file_extension": ".py",
   "mimetype": "text/x-python",
   "name": "python",
   "nbconvert_exporter": "python",
   "pygments_lexer": "ipython3",
   "version": "3.11.5"
  }
 },
 "nbformat": 4,
 "nbformat_minor": 5
}
